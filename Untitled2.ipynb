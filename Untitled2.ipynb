{
  "cells": [
    {
      "cell_type": "markdown",
      "metadata": {
        "id": "view-in-github",
        "colab_type": "text"
      },
      "source": [
        "<a href=\"https://colab.research.google.com/github/Nimanoro/custom-canny-edge-detector/blob/main/Untitled2.ipynb\" target=\"_parent\"><img src=\"https://colab.research.google.com/assets/colab-badge.svg\" alt=\"Open In Colab\"/></a>"
      ]
    },
    {
      "cell_type": "code",
      "execution_count": 79,
      "metadata": {
        "id": "iiSE-cZYtzfd"
      },
      "outputs": [],
      "source": [
        "def edge_linking(strong_edges, weak_edges):\n",
        "    # Iterate over the weak edges and include them if connected to strong edges\n",
        "    result = np.copy(strong_edges)\n",
        "    for i in range(1, weak_edges.shape[0] - 1):\n",
        "        for j in range(1, weak_edges.shape[1] - 1):\n",
        "            if weak_edges[i, j]:\n",
        "                if np.any(strong_edges[i - 1:i + 2, j - 1:j + 2]):\n",
        "                    result[i, j] = 1\n",
        "    return result\n",
        "\n",
        "def canny_edge_detector(img, low_threshold=50, high_threshold=150):\n",
        "\n",
        "    blurred_img = gaussian_blur(img)\n",
        "\n",
        "    magnitude, direction = sobel_gradients(blurred_img)\n",
        "\n",
        "    suppressed = non_maxima_suppression(magnitude, direction)\n",
        "\n",
        "    strong_edges, weak_edges = double_threshold(suppressed, low_threshold, high_threshold)\n",
        "\n",
        "    final_edges = edge_linking(strong_edges, weak_edges)\n",
        "\n",
        "    return final_edges\n",
        "\n",
        "\n",
        "def gaussian_blur(img, kernel_size=5, sigma=1.4):\n",
        "\n",
        "\n",
        "    return cv2.GaussianBlur(img, (kernel_size, kernel_size), sigma)\n",
        "\n",
        "def sobel_gradients(img):\n",
        "\n",
        "\n",
        "    grad_x = cv2.Sobel(img, cv2.CV_64F, 1, 0, ksize=3)\n",
        "    grad_y = cv2.Sobel(img, cv2.CV_64F, 0, 1, ksize=3)\n",
        "\n",
        "    magnitude = np.sqrt(grad_x**2 + grad_y**2)\n",
        "    direction = np.arctan2(grad_y, grad_x)\n",
        "    return magnitude, direction\n",
        "\n",
        "def non_maxima_suppression(magnitude, direction):\n",
        "    direction = np.degrees(direction)\n",
        "    direction = (direction + 180) % 180\n",
        "\n",
        "    suppressed = np.zeros_like(magnitude)\n",
        "\n",
        "\n",
        "\n",
        "    for i in range(1, magnitude.shape[0] - 1):\n",
        "        for j in range(1, magnitude.shape[1] - 1):\n",
        "            if (0 <= direction[i, j] < 22.5) or (157.5 <= direction[i, j] <= 180):\n",
        "                neighbors = [magnitude[i, j + 1], magnitude[i, j - 1]]\n",
        "            elif (22.5 <= direction[i, j] < 67.5):\n",
        "                neighbors = [magnitude[i - 1, j + 1], magnitude[i + 1, j - 1]]\n",
        "            elif (67.5 <= direction[i, j] < 112.5):\n",
        "                neighbors = [magnitude[i + 1, j], magnitude[i - 1, j]]\n",
        "            else:\n",
        "                neighbors = [magnitude[i - 1, j - 1], magnitude[i + 1, j + 1]]\n",
        "\n",
        "            if magnitude[i, j] >= max(neighbors):\n",
        "                suppressed[i, j] = magnitude[i, j]\n",
        "\n",
        "    return suppressed\n",
        "\n",
        "def double_threshold(suppressed, low_threshold, high_threshold):\n",
        "    strong_edges = (suppressed > high_threshold).astype(np.uint8)\n",
        "    weak_edges = ((suppressed >= low_threshold) & (suppressed <= high_threshold)).astype(np.uint8)\n",
        "    return strong_edges, weak_edges"
      ]
    },
    {
      "cell_type": "code",
      "execution_count": 99,
      "metadata": {
        "id": "pxnlknyMxJE9"
      },
      "outputs": [],
      "source": [
        "import cv2\n",
        "import numpy as np\n",
        "from collections import deque\n",
        "\n",
        "def bfs_linking(final_edges, visited, i, j, low_threshold, high_threshold):\n",
        "    \"\"\"Iterative BFS to check if a weak edge is connected to a strong edge.\"\"\"\n",
        "    queue = deque([(i, j)])\n",
        "    visited[i, j] = True  # Mark the starting node as visited\n",
        "\n",
        "    # Define 8-connected neighbors\n",
        "    neighbors = [\n",
        "        (-1, 0), (1, 0), (0, -1), (0, 1),   # Vertical and horizontal neighbors\n",
        "        (-1, -1), (-1, 1), (1, -1), (1, 1)  # Diagonal neighbors\n",
        "    ]\n",
        "\n",
        "    while queue:\n",
        "        x, y = queue.popleft()  # Get the next pixel from the queue\n",
        "\n",
        "        # Explore all 8-connected neighbors\n",
        "        for dx, dy in neighbors:\n",
        "            nx, ny = x + dx, y + dy  # Calculate neighbor coordinates\n",
        "\n",
        "            # Check if the neighbor is within bounds\n",
        "            if 0 <= nx < final_edges.shape[0] and 0 <= ny < final_edges.shape[1]:\n",
        "\n",
        "                # Check if this neighbor has already been visited\n",
        "                if not visited[nx, ny]:\n",
        "                    # Check if the neighbor is a strong edge\n",
        "                    if final_edges[nx, ny] == 255:\n",
        "                        return True  # Found a connection to a strong edge\n",
        "\n",
        "                    # Check if the neighbor is a weak edge\n",
        "                    if low_threshold <= final_edges[nx, ny] < high_threshold:\n",
        "                        visited[nx, ny] = True  # Mark as visited\n",
        "                        queue.append((nx, ny))  # Add to the queue for further exploration\n",
        "\n",
        "    return False  # No strong edge found in the connected component\n",
        "\n",
        "def non_maxima_suppression_optimized(magnitude, direction, thresholds):\n",
        "    \"\"\"Performs non-maximum suppression and edge linking in a single step using BFS.\"\"\"\n",
        "    low_threshold, high_threshold = thresholds\n",
        "    direction = np.degrees(direction)\n",
        "    direction = (direction + 180) % 180\n",
        "\n",
        "    suppressed = np.zeros_like(magnitude)\n",
        "    final_edges = np.zeros_like(magnitude, dtype=np.uint8)\n",
        "    visited = np.zeros_like(magnitude, dtype=bool)  # Create `visited` array once\n",
        "\n",
        "    for i in range(1, magnitude.shape[0] - 1):\n",
        "        for j in range(1, magnitude.shape[1] - 1):\n",
        "            # Determine which neighbors to check based on the gradient direction\n",
        "            if (0 <= direction[i, j] and direction[i, j] < 22.5) or (157.5 <= direction[i, j] and direction[i, j] <= 180):\n",
        "                neighbors = [magnitude[i, j + 1], magnitude[i, j - 1]]\n",
        "            elif 22.5 <= direction[i, j] < 67.5:\n",
        "                neighbors = [magnitude[i - 1, j + 1], magnitude[i + 1, j - 1]]\n",
        "            elif 67.5 <= direction[i, j] < 112.5:\n",
        "                neighbors = [magnitude[i + 1, j], magnitude[i - 1, j]]\n",
        "            else:\n",
        "                neighbors = [magnitude[i - 1, j - 1], magnitude[i + 1, j + 1]]\n",
        "            # Non-maxima suppression: Keep only local maxima\n",
        "            if magnitude[i, j] >= max(neighbors):\n",
        "                suppressed[i, j] = magnitude[i, j]\n",
        "\n",
        "                # Check if it's a strong edge\n",
        "                if suppressed[i, j] >= high_threshold:\n",
        "                    final_edges[i, j] = 255  # Mark as strong edge\n",
        "                # Check if it's a weak edge and not already linked\n",
        "                elif low_threshold <= suppressed[i, j] < high_threshold:\n",
        "                    if not visited[i, j]:  # Check if this weak edge has been visited\n",
        "                        # Check if the weak edge is connected to a strong edge\n",
        "                        if bfs_linking(final_edges, visited, i, j, low_threshold, high_threshold):\n",
        "                            final_edges[i, j] = 255  # Link weak edge to strong edge\n",
        "\n",
        "    return final_edges\n",
        "\n",
        "\n",
        "def canny_edge_op(img, low_threshold=50, high_threshold=150):\n",
        "\n",
        "    blurred_img = gaussian_blur(img)\n",
        "\n",
        "    magnitude, direction = sobel_gradients(blurred_img)\n",
        "\n",
        "    final_edges = non_maxima_suppression_optimized(magnitude, direction, thresholds)\n",
        "\n",
        "    return final_edges\n"
      ]
    },
    {
      "cell_type": "code",
      "execution_count": 112,
      "metadata": {
        "id": "NO7MgAuYxvSn"
      },
      "outputs": [],
      "source": [
        "import time\n",
        "import cv2\n",
        "\n",
        "np.random.seed(42)  # For reproducibility\n",
        "large_magnitude = np.random.rand(2000, 2000) * 255  # Random values between 0 and 255\n",
        "large_direction = np.random.rand(2000, 2000) * np.pi  # Random directions between 0 and pi\n",
        "\n",
        "thresholds = (50, 10)\n",
        "\n",
        "# Calculate the runtime\n",
        "image = cv2.imread('/content/judybats.jpg')  # Replace 'image.jpg' with your image file path\n"
      ]
    },
    {
      "cell_type": "code",
      "source": [
        "large_magnitude_uint8 = large_magnitude.astype(np.uint8)\n",
        "start_time = time.time()\n",
        "result_edges = canny_edge_op(large_magnitude, 50, 150)\n",
        "end_time = time.time()\n",
        "timey = end_time - start_time\n",
        "timey"
      ],
      "metadata": {
        "colab": {
          "base_uri": "https://localhost:8080/"
        },
        "id": "ZUKkzVx_Xm2o",
        "outputId": "c797f385-2e7e-470d-d323-28d781d8b49c"
      },
      "execution_count": 113,
      "outputs": [
        {
          "output_type": "execute_result",
          "data": {
            "text/plain": [
              "8.706243515014648"
            ]
          },
          "metadata": {},
          "execution_count": 113
        }
      ]
    },
    {
      "cell_type": "code",
      "source": [
        "result_edges"
      ],
      "metadata": {
        "colab": {
          "base_uri": "https://localhost:8080/"
        },
        "id": "VRTofkOCYZGg",
        "outputId": "defbf228-9de2-4af7-de50-32e37859944c"
      },
      "execution_count": 86,
      "outputs": [
        {
          "output_type": "execute_result",
          "data": {
            "text/plain": [
              "array([[  0,   0,   0, ...,   0,   0,   0],\n",
              "       [  0,   0,   0, ...,   0,   0,   0],\n",
              "       [  0,   0,   0, ...,   0, 255,   0],\n",
              "       ...,\n",
              "       [  0, 255,   0, ...,   0,   0,   0],\n",
              "       [  0,   0,   0, ...,   0,   0,   0],\n",
              "       [  0,   0,   0, ...,   0,   0,   0]], dtype=uint8)"
            ]
          },
          "metadata": {},
          "execution_count": 86
        }
      ]
    },
    {
      "cell_type": "code",
      "source": [
        "\n",
        "start_time = time.time()\n",
        "result_edges = canny_edge_detector(large_magnitude_uint8)\n",
        "end_time = time.time()\n",
        "\n",
        "# Calculate and display the runtime\n",
        "timey = end_time - start_time\n",
        "timey"
      ],
      "metadata": {
        "id": "oNl0WJv-W7yQ",
        "colab": {
          "base_uri": "https://localhost:8080/"
        },
        "outputId": "107fc0fa-37a5-4d0a-ea18-61c07c08d33f"
      },
      "execution_count": 115,
      "outputs": [
        {
          "output_type": "execute_result",
          "data": {
            "text/plain": [
              "14.637547254562378"
            ]
          },
          "metadata": {},
          "execution_count": 115
        }
      ]
    },
    {
      "cell_type": "code",
      "source": [
        "result_edges"
      ],
      "metadata": {
        "colab": {
          "base_uri": "https://localhost:8080/"
        },
        "id": "p7oo2lRoYbBK",
        "outputId": "4c76df29-94af-4135-9359-88e68abf974a"
      },
      "execution_count": 106,
      "outputs": [
        {
          "output_type": "execute_result",
          "data": {
            "text/plain": [
              "array([[  0,   0,   0, ...,   0,   0,   0],\n",
              "       [  0,   0,   0, ...,   0,   0,   0],\n",
              "       [  0,   0,   0, ...,   0, 255,   0],\n",
              "       ...,\n",
              "       [  0, 255,   0, ...,   0,   0,   0],\n",
              "       [  0,   0,   0, ...,   0,   0,   0],\n",
              "       [  0,   0,   0, ...,   0,   0,   0]], dtype=uint8)"
            ]
          },
          "metadata": {},
          "execution_count": 106
        }
      ]
    },
    {
      "cell_type": "code",
      "source": [],
      "metadata": {
        "id": "hmlMhzI_YjXx"
      },
      "execution_count": null,
      "outputs": []
    }
  ],
  "metadata": {
    "colab": {
      "provenance": [],
      "authorship_tag": "ABX9TyMa77mNRN/oak/xII3HWHw8",
      "include_colab_link": true
    },
    "kernelspec": {
      "display_name": "Python 3",
      "name": "python3"
    },
    "language_info": {
      "name": "python"
    }
  },
  "nbformat": 4,
  "nbformat_minor": 0
}